{
 "cells": [
  {
   "cell_type": "markdown",
   "id": "a0f1d909",
   "metadata": {},
   "source": [
    "# lambda functions"
   ]
  },
  {
   "cell_type": "code",
   "execution_count": 5,
   "id": "f41d917f",
   "metadata": {},
   "outputs": [
    {
     "data": {
      "text/plain": [
       "3"
      ]
     },
     "execution_count": 5,
     "metadata": {},
     "output_type": "execute_result"
    }
   ],
   "source": [
    "a=10\n",
    "b=20\n",
    "f=lambda a,b:a+b\n",
    "f(1,2)"
   ]
  },
  {
   "cell_type": "code",
   "execution_count": 16,
   "id": "f58c607d",
   "metadata": {},
   "outputs": [
    {
     "data": {
      "text/plain": [
       "[1, 2, 3, 1, 2, 3]"
      ]
     },
     "execution_count": 16,
     "metadata": {},
     "output_type": "execute_result"
    }
   ],
   "source": [
    "l=[1,2,3]\n",
    "l2=[1,2,3]\n",
    "concat=lambda x,y:x+y\n",
    "concat(l,l2)"
   ]
  },
  {
   "cell_type": "code",
   "execution_count": 17,
   "id": "76332795",
   "metadata": {},
   "outputs": [
    {
     "data": {
      "text/plain": [
       "[1, 2, 3]"
      ]
     },
     "execution_count": 17,
     "metadata": {},
     "output_type": "execute_result"
    }
   ],
   "source": [
    "l"
   ]
  },
  {
   "cell_type": "markdown",
   "id": "4646d7f0",
   "metadata": {},
   "source": [
    "# map()"
   ]
  },
  {
   "cell_type": "code",
   "execution_count": 23,
   "id": "7e2fdc87",
   "metadata": {},
   "outputs": [
    {
     "data": {
      "text/plain": [
       "[2, 4, 6]"
      ]
     },
     "execution_count": 23,
     "metadata": {},
     "output_type": "execute_result"
    }
   ],
   "source": [
    "l1=[1,2,3]\n",
    "x=map(lambda x:x+x,l1)\n",
    "list(x)"
   ]
  },
  {
   "cell_type": "code",
   "execution_count": 27,
   "id": "3f72b2bb",
   "metadata": {},
   "outputs": [
    {
     "data": {
      "text/plain": [
       "[5, 7, 9]"
      ]
     },
     "execution_count": 27,
     "metadata": {},
     "output_type": "execute_result"
    }
   ],
   "source": [
    "n1=[1,2,3]\n",
    "n2=[4,5,6]\n",
    "n3=[]\n",
    "res=map(lambda x,y:x+y,n1,n2)\n",
    "list(res)"
   ]
  },
  {
   "cell_type": "markdown",
   "id": "88dd2d96",
   "metadata": {},
   "source": [
    "# filter()"
   ]
  },
  {
   "cell_type": "code",
   "execution_count": 36,
   "id": "77be3a84",
   "metadata": {},
   "outputs": [
    {
     "data": {
      "text/plain": [
       "[2, 3, 4]"
      ]
     },
     "execution_count": 36,
     "metadata": {},
     "output_type": "execute_result"
    }
   ],
   "source": [
    "arr=[1,2,3,4]\n",
    "farr=filter(lambda x:x>1,arr)\n",
    "list(farr)"
   ]
  },
  {
   "cell_type": "code",
   "execution_count": 46,
   "id": "b73c6e1a",
   "metadata": {},
   "outputs": [
    {
     "data": {
      "text/plain": [
       "['C', 'C++', 'C#']"
      ]
     },
     "execution_count": 46,
     "metadata": {},
     "output_type": "execute_result"
    }
   ],
   "source": [
    "l=['C','C++','Python','Java','C#']\n",
    "fa=filter(lambda x:x[0]=='C',l)\n",
    "list(fa)"
   ]
  },
  {
   "cell_type": "markdown",
   "id": "6f828632",
   "metadata": {},
   "source": [
    "# applying map() and filter()"
   ]
  },
  {
   "cell_type": "code",
   "execution_count": 63,
   "id": "c33b0b70",
   "metadata": {},
   "outputs": [
    {
     "data": {
      "text/plain": [
       "['C', 'C++', 'C#']"
      ]
     },
     "execution_count": 63,
     "metadata": {},
     "output_type": "execute_result"
    }
   ],
   "source": [
    "compiled=['C','C++','C#','Java']\n",
    "interpreted=['Python','JavaScript']\n",
    "l=[]\n",
    "l.extend(compiled)\n",
    "l.extend(interpreted)\n",
    "l\n",
    "cf=list(filter(lambda x:x[0]=='C',l))\n",
    "cf"
   ]
  },
  {
   "cell_type": "markdown",
   "id": "168dec9f",
   "metadata": {},
   "source": [
    "# ft.reduce()"
   ]
  },
  {
   "cell_type": "code",
   "execution_count": 75,
   "id": "81227ff6",
   "metadata": {},
   "outputs": [
    {
     "data": {
      "text/plain": [
       "21"
      ]
     },
     "execution_count": 75,
     "metadata": {},
     "output_type": "execute_result"
    }
   ],
   "source": [
    "import functools as ft\n",
    "a1=[1,2,3,4,5,6]\n",
    "ar=ft.reduce(lambda x,y:x+y,a1)   #reduces the list as a sum of all elements\n",
    "ar"
   ]
  },
  {
   "cell_type": "code",
   "execution_count": 76,
   "id": "6ac3d2ed",
   "metadata": {},
   "outputs": [
    {
     "data": {
      "text/plain": [
       "120"
      ]
     },
     "execution_count": 76,
     "metadata": {},
     "output_type": "execute_result"
    }
   ],
   "source": [
    "import functools as ft\n",
    "a1=[1,2,3,4,5]\n",
    "ar=ft.reduce(lambda x,y:x*y,a1)  #reduces the list as a product of all elements\n",
    "ar"
   ]
  },
  {
   "cell_type": "code",
   "execution_count": 78,
   "id": "60243a4a",
   "metadata": {},
   "outputs": [
    {
     "data": {
      "text/plain": [
       "4096"
      ]
     },
     "execution_count": 78,
     "metadata": {},
     "output_type": "execute_result"
    }
   ],
   "source": [
    "import functools as ft\n",
    "a1=[2,3,4]\n",
    "ar=ft.reduce(lambda x,y:x**y,a1)\n",
    "ar"
   ]
  },
  {
   "cell_type": "markdown",
   "id": "b5e60769",
   "metadata": {},
   "source": [
    "# Lists and some of their methods"
   ]
  },
  {
   "cell_type": "code",
   "execution_count": 84,
   "id": "8c6578c4",
   "metadata": {},
   "outputs": [],
   "source": [
    "l=[]"
   ]
  },
  {
   "cell_type": "code",
   "execution_count": 90,
   "id": "a225eee0",
   "metadata": {},
   "outputs": [],
   "source": [
    "l.append(1)  #used to append a single element at the last"
   ]
  },
  {
   "cell_type": "code",
   "execution_count": 91,
   "id": "9a9e2a09",
   "metadata": {},
   "outputs": [
    {
     "data": {
      "text/plain": [
       "[1]"
      ]
     },
     "execution_count": 91,
     "metadata": {},
     "output_type": "execute_result"
    }
   ],
   "source": [
    "l"
   ]
  },
  {
   "cell_type": "code",
   "execution_count": 102,
   "id": "09646e1b",
   "metadata": {},
   "outputs": [],
   "source": [
    "l.clear()   #clears the entire list"
   ]
  },
  {
   "cell_type": "code",
   "execution_count": 131,
   "id": "9ae19928",
   "metadata": {},
   "outputs": [
    {
     "data": {
      "text/plain": [
       "['C', 'C#', 'C++', 'Java', 'JavaScript', 'Python']"
      ]
     },
     "execution_count": 131,
     "metadata": {},
     "output_type": "execute_result"
    }
   ],
   "source": [
    "l=compiled+interpreted\n",
    "l\n",
    "l.sort()\n",
    "l"
   ]
  },
  {
   "cell_type": "code",
   "execution_count": 132,
   "id": "5120ba3f",
   "metadata": {},
   "outputs": [],
   "source": [
    "l.remove('JavaScript')"
   ]
  },
  {
   "cell_type": "code",
   "execution_count": 133,
   "id": "74d08152",
   "metadata": {},
   "outputs": [
    {
     "data": {
      "text/plain": [
       "['C', 'C#', 'C++', 'Java', 'Python']"
      ]
     },
     "execution_count": 133,
     "metadata": {},
     "output_type": "execute_result"
    }
   ],
   "source": [
    "l"
   ]
  },
  {
   "cell_type": "code",
   "execution_count": 134,
   "id": "65df0f7f",
   "metadata": {},
   "outputs": [
    {
     "data": {
      "text/plain": [
       "1"
      ]
     },
     "execution_count": 134,
     "metadata": {},
     "output_type": "execute_result"
    }
   ],
   "source": [
    "l.count('C')"
   ]
  },
  {
   "cell_type": "code",
   "execution_count": 135,
   "id": "0a53ffd9",
   "metadata": {},
   "outputs": [
    {
     "data": {
      "text/plain": [
       "['Python', 'Java', 'C++', 'C#', 'C']"
      ]
     },
     "execution_count": 135,
     "metadata": {},
     "output_type": "execute_result"
    }
   ],
   "source": [
    "l.reverse()\n",
    "l"
   ]
  },
  {
   "cell_type": "code",
   "execution_count": 136,
   "id": "3bed75b5",
   "metadata": {},
   "outputs": [
    {
     "data": {
      "text/plain": [
       "['R', 'Python', 'Java', 'C++', 'C#', 'C']"
      ]
     },
     "execution_count": 136,
     "metadata": {},
     "output_type": "execute_result"
    }
   ],
   "source": [
    "l.insert(0,'R')\n",
    "l"
   ]
  },
  {
   "cell_type": "code",
   "execution_count": 141,
   "id": "9742f30e",
   "metadata": {},
   "outputs": [
    {
     "data": {
      "text/plain": [
       "['R', 'Python', 'Java', 'C++', 'C#', 'C']"
      ]
     },
     "execution_count": 141,
     "metadata": {},
     "output_type": "execute_result"
    }
   ],
   "source": [
    "lcopy=l.copy()\n",
    "lcopy"
   ]
  },
  {
   "cell_type": "markdown",
   "id": "6cc9467f",
   "metadata": {},
   "source": [
    "# Loops"
   ]
  },
  {
   "cell_type": "code",
   "execution_count": 4,
   "id": "23890fda",
   "metadata": {},
   "outputs": [
    {
     "name": "stdout",
     "output_type": "stream",
     "text": [
      "FOUND\n"
     ]
    }
   ],
   "source": [
    "l=[1,2,3,4]\n",
    "key=2\n",
    "for key in l:\n",
    "    print('FOUND')\n",
    "    break"
   ]
  },
  {
   "cell_type": "code",
   "execution_count": 6,
   "id": "0919f096",
   "metadata": {},
   "outputs": [
    {
     "name": "stdout",
     "output_type": "stream",
     "text": [
      "FOUND\n"
     ]
    }
   ],
   "source": [
    "arr=[1,2,3,4]\n",
    "key =2\n",
    "for i in range(len(l)):\n",
    "    if(arr[i]==key):\n",
    "        print(\"FOUND\")\n",
    "        break\n",
    "    else:\n",
    "        continue"
   ]
  },
  {
   "cell_type": "code",
   "execution_count": 46,
   "id": "3e1a3fc8",
   "metadata": {},
   "outputs": [
    {
     "name": "stdout",
     "output_type": "stream",
     "text": [
      "Collecting pandoc\n",
      "  Downloading pandoc-2.2.tar.gz (29 kB)\n",
      "Collecting plumbum\n",
      "  Downloading plumbum-1.7.2-py2.py3-none-any.whl (117 kB)\n",
      "Collecting ply\n",
      "  Downloading ply-3.11-py2.py3-none-any.whl (49 kB)\n",
      "Requirement already satisfied: pywin32 in c:\\users\\vk\\anaconda3\\lib\\site-packages (from plumbum->pandoc) (302)\n",
      "Building wheels for collected packages: pandoc\n",
      "  Building wheel for pandoc (setup.py): started\n",
      "  Building wheel for pandoc (setup.py): finished with status 'done'\n",
      "  Created wheel for pandoc: filename=pandoc-2.2-py3-none-any.whl size=29557 sha256=f04f5954629fa7034be82fb7f7a7e463883f680d9cabd7772336b8a3c47ba6d6\n",
      "  Stored in directory: c:\\users\\vk\\appdata\\local\\pip\\cache\\wheels\\2d\\da\\b1\\54ff0401ef9b07b60c7fc9cffe616f243cf27dc3d04bd5d5ef\n",
      "Successfully built pandoc\n",
      "Installing collected packages: ply, plumbum, pandoc\n",
      "Successfully installed pandoc-2.2 plumbum-1.7.2 ply-3.11\n"
     ]
    }
   ],
   "source": []
  },
  {
   "cell_type": "code",
   "execution_count": 7,
   "id": "7154a012",
   "metadata": {},
   "outputs": [
    {
     "name": "stdout",
     "output_type": "stream",
     "text": [
      "1\n",
      "2\n",
      "3\n",
      "4\n",
      "5\n",
      "6\n",
      "7\n",
      "8\n",
      "9\n",
      "10\n"
     ]
    }
   ],
   "source": [
    "i=1\n",
    "while(i<=10):\n",
    "    print(i)\n",
    "    i=i+1"
   ]
  },
  {
   "cell_type": "code",
   "execution_count": 8,
   "id": "04b14682",
   "metadata": {},
   "outputs": [
    {
     "data": {
      "text/plain": [
       "24"
      ]
     },
     "execution_count": 8,
     "metadata": {},
     "output_type": "execute_result"
    }
   ],
   "source": [
    "def fact(n):\n",
    "    if(n==0):\n",
    "        return 1;\n",
    "    else:\n",
    "        return n*fact(n-1)\n",
    "fact(4)"
   ]
  },
  {
   "cell_type": "code",
   "execution_count": 37,
   "id": "01b62527",
   "metadata": {},
   "outputs": [
    {
     "name": "stdout",
     "output_type": "stream",
     "text": [
      "armstrong\n"
     ]
    }
   ],
   "source": [
    "l=[]\n",
    "def arm(n):\n",
    "    s=str(n)\n",
    "    for i in range(len(s)):\n",
    "        l.append(int(s[i]))\n",
    "    add=0\n",
    "    for i in range(len(l)):\n",
    "        add=add+l[i]**3\n",
    "    if(n==add):\n",
    "        print(\"armstrong\")\n",
    "    else:\n",
    "        print('non-armstrong')\n",
    "arm(153)"
   ]
  },
  {
   "cell_type": "code",
   "execution_count": 50,
   "id": "1eaaf98e",
   "metadata": {},
   "outputs": [
    {
     "name": "stdout",
     "output_type": "stream",
     "text": [
      "PRIME\n"
     ]
    }
   ],
   "source": [
    "def checkprime(n):\n",
    "    flag=False\n",
    "    if(n>1):\n",
    "        for i in range(2,n):\n",
    "            if(n%i==0):\n",
    "                flag=True\n",
    "            else:\n",
    "                continue\n",
    "    if(flag):\n",
    "        print(\"NON-PRIME\")\n",
    "    else:\n",
    "        print(\"PRIME\")\n",
    "\n",
    "checkprime(131)\n",
    "            "
   ]
  },
  {
   "cell_type": "code",
   "execution_count": 53,
   "id": "409ade6f",
   "metadata": {},
   "outputs": [
    {
     "name": "stdout",
     "output_type": "stream",
     "text": [
      "enter the number of terms you want fibonacci series:6\n",
      "0\n",
      "1\n",
      "1\n",
      "2\n",
      "3\n",
      "5\n"
     ]
    }
   ],
   "source": [
    "n1=0\n",
    "n2=1\n",
    "count=0\n",
    "n=int(input(\"enter the number of terms you want fibonacci series:\"))\n",
    "while(count<n):\n",
    "    print(n1)\n",
    "    nth=n1+n2\n",
    "    n1,n2=n2,nth\n",
    "    count=count+1\n"
   ]
  },
  {
   "cell_type": "code",
   "execution_count": null,
   "id": "4a19fea2",
   "metadata": {},
   "outputs": [],
   "source": []
  },
  {
   "cell_type": "code",
   "execution_count": 63,
   "id": "187dcc73",
   "metadata": {},
   "outputs": [],
   "source": [
    "def sqr(n):\n",
    "    return n*n\n",
    "    def compute(n):\n",
    "        return sqr(n)+sqr(n-1)"
   ]
  },
  {
   "cell_type": "code",
   "execution_count": 64,
   "id": "9e0284b9",
   "metadata": {},
   "outputs": [
    {
     "data": {
      "text/plain": [
       "(16, 25)"
      ]
     },
     "execution_count": 64,
     "metadata": {},
     "output_type": "execute_result"
    }
   ],
   "source": [
    "sqr(4),compute(4)"
   ]
  },
  {
   "cell_type": "code",
   "execution_count": 114,
   "id": "91f735ae",
   "metadata": {},
   "outputs": [
    {
     "name": "stdout",
     "output_type": "stream",
     "text": [
      "hello ALL EMPLOYEES\n",
      "hello Developers\n",
      "hello Testers\n"
     ]
    }
   ],
   "source": [
    "def fe(message):\n",
    "    print(message+\" ALL EMPLOYEES\")\n",
    "    def fd():\n",
    "        print(message+\" Developers\")\n",
    "    fd()\n",
    "    def ft():\n",
    "        print(message+\" Testers\")\n",
    "    ft()\n",
    "fe(\"hello\")"
   ]
  },
  {
   "cell_type": "code",
   "execution_count": 115,
   "id": "b7b2ebb0",
   "metadata": {},
   "outputs": [
    {
     "data": {
      "text/plain": [
       "(9, 13)"
      ]
     },
     "execution_count": 115,
     "metadata": {},
     "output_type": "execute_result"
    }
   ],
   "source": [
    "def x(k):\n",
    "    return k*k\n",
    "    def compute(k):\n",
    "        y=x(k)+k\n",
    "        print(y)\n",
    "    compute()\n",
    "x(3),compute(3)"
   ]
  },
  {
   "cell_type": "code",
   "execution_count": 1,
   "id": "d602b43e",
   "metadata": {},
   "outputs": [
    {
     "data": {
      "text/plain": [
       "3"
      ]
     },
     "execution_count": 1,
     "metadata": {},
     "output_type": "execute_result"
    }
   ],
   "source": [
    "f=lambda a,b:a+b\n",
    "f(1,2)"
   ]
  },
  {
   "cell_type": "code",
   "execution_count": 10,
   "id": "f5f60d0c",
   "metadata": {},
   "outputs": [
    {
     "data": {
      "text/plain": [
       "[5, 7, 9]"
      ]
     },
     "execution_count": 10,
     "metadata": {},
     "output_type": "execute_result"
    }
   ],
   "source": [
    "l1=[1,2,3]\n",
    "l2=[4,5,6]\n",
    "x=list(map(lambda x,y:x+y,l1,l2))\n",
    "x"
   ]
  },
  {
   "cell_type": "code",
   "execution_count": 15,
   "id": "1f7d7262",
   "metadata": {},
   "outputs": [
    {
     "data": {
      "text/plain": [
       "['X', 'X++', 'X#']"
      ]
     },
     "execution_count": 15,
     "metadata": {},
     "output_type": "execute_result"
    }
   ],
   "source": [
    "arr=['X','X++','X#']\n",
    "f=list(filter(lambda l:l[0]=='X',arr))\n",
    "f"
   ]
  },
  {
   "cell_type": "code",
   "execution_count": 24,
   "id": "75eded44",
   "metadata": {},
   "outputs": [
    {
     "name": "stdout",
     "output_type": "stream",
     "text": [
      "enter the number:4\n",
      "factorial is:  24\n"
     ]
    }
   ],
   "source": [
    "import functools as ft\n",
    "lt=[1,2,3,4,5]\n",
    "q=ft.reduce(lambda x,y:x*y,lt)\n",
    "n=int(input(\"enter the number:\"))\n",
    "l=list()\n",
    "for i in range(1,n+1):\n",
    "    l.append(i)\n",
    "    q2=ft.reduce(lambda x,y:x*y,l)\n",
    "print(\"factorial is: \",q2)\n",
    "    "
   ]
  },
  {
   "cell_type": "code",
   "execution_count": 26,
   "id": "a6351459",
   "metadata": {},
   "outputs": [
    {
     "name": "stdout",
     "output_type": "stream",
     "text": [
      "enter number of terms:4\n",
      "0\n",
      "1\n",
      "1\n",
      "2\n"
     ]
    }
   ],
   "source": [
    "n1=0\n",
    "n2=1\n",
    "count=0\n",
    "n=int(input(\"enter number of terms:\"))\n",
    "while(count<n):\n",
    "    print(n1)\n",
    "    nth=n1+n2\n",
    "    n1,n2=n2,nth\n",
    "    count=count+1"
   ]
  },
  {
   "cell_type": "code",
   "execution_count": 45,
   "id": "aa461ae6",
   "metadata": {},
   "outputs": [],
   "source": [
    "def checkprime(n):\n",
    "    flag=False\n",
    "    if(n>1):\n",
    "        for i in range(2,n):\n",
    "            if(n%i==0):\n",
    "                flag=True\n",
    "    if(flag):\n",
    "        print(\"NON-PRIME\")\n",
    "    else:\n",
    "        print(\"PRIME\")"
   ]
  },
  {
   "cell_type": "code",
   "execution_count": null,
   "id": "50b5c65c",
   "metadata": {},
   "outputs": [],
   "source": []
  },
  {
   "cell_type": "code",
   "execution_count": null,
   "id": "aff72a0d",
   "metadata": {},
   "outputs": [],
   "source": []
  }
 ],
 "metadata": {
  "kernelspec": {
   "display_name": "Python 3 (ipykernel)",
   "language": "python",
   "name": "python3"
  },
  "language_info": {
   "codemirror_mode": {
    "name": "ipython",
    "version": 3
   },
   "file_extension": ".py",
   "mimetype": "text/x-python",
   "name": "python",
   "nbconvert_exporter": "python",
   "pygments_lexer": "ipython3",
   "version": "3.9.12"
  }
 },
 "nbformat": 4,
 "nbformat_minor": 5
}
