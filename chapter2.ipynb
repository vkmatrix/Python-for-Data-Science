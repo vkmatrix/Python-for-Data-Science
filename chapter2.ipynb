{
 "cells": [
  {
   "cell_type": "markdown",
   "id": "9823eb2c",
   "metadata": {},
   "source": [
    "# set"
   ]
  },
  {
   "cell_type": "code",
   "execution_count": 2,
   "id": "a5580b51",
   "metadata": {},
   "outputs": [
    {
     "data": {
      "text/plain": [
       "set"
      ]
     },
     "execution_count": 2,
     "metadata": {},
     "output_type": "execute_result"
    }
   ],
   "source": [
    "s=set()\n",
    "type(s)"
   ]
  },
  {
   "cell_type": "code",
   "execution_count": 46,
   "id": "2e39c033",
   "metadata": {},
   "outputs": [
    {
     "data": {
      "text/plain": [
       "{1, 2, 3, 4}"
      ]
     },
     "execution_count": 46,
     "metadata": {},
     "output_type": "execute_result"
    }
   ],
   "source": [
    "s={1,2,1,3,4,2,4}\n",
    "s"
   ]
  },
  {
   "cell_type": "code",
   "execution_count": 47,
   "id": "ef97e6c2",
   "metadata": {},
   "outputs": [
    {
     "data": {
      "text/plain": [
       "{1, 2, 3, 4, 5}"
      ]
     },
     "execution_count": 47,
     "metadata": {},
     "output_type": "execute_result"
    }
   ],
   "source": [
    "s.add(5)\n",
    "s"
   ]
  },
  {
   "cell_type": "code",
   "execution_count": 48,
   "id": "822dc341",
   "metadata": {},
   "outputs": [
    {
     "data": {
      "text/plain": [
       "{3}"
      ]
     },
     "execution_count": 48,
     "metadata": {},
     "output_type": "execute_result"
    }
   ],
   "source": [
    "As={1,2,3}\n",
    "Bs={1,2}\n",
    "As.difference(Bs)"
   ]
  },
  {
   "cell_type": "code",
   "execution_count": 49,
   "id": "eb289612",
   "metadata": {},
   "outputs": [
    {
     "data": {
      "text/plain": [
       "{1, 2}"
      ]
     },
     "execution_count": 49,
     "metadata": {},
     "output_type": "execute_result"
    }
   ],
   "source": [
    "As.intersection(Bs)"
   ]
  },
  {
   "cell_type": "code",
   "execution_count": 50,
   "id": "5f722f8d",
   "metadata": {},
   "outputs": [
    {
     "data": {
      "text/plain": [
       "{1, 2, 3}"
      ]
     },
     "execution_count": 50,
     "metadata": {},
     "output_type": "execute_result"
    }
   ],
   "source": [
    "As.union(Bs)"
   ]
  },
  {
   "cell_type": "code",
   "execution_count": 51,
   "id": "00b14024",
   "metadata": {},
   "outputs": [
    {
     "data": {
      "text/plain": [
       "True"
      ]
     },
     "execution_count": 51,
     "metadata": {},
     "output_type": "execute_result"
    }
   ],
   "source": [
    "Bs.issubset(As)"
   ]
  },
  {
   "cell_type": "code",
   "execution_count": 52,
   "id": "5e7c9998",
   "metadata": {},
   "outputs": [
    {
     "data": {
      "text/plain": [
       "True"
      ]
     },
     "execution_count": 52,
     "metadata": {},
     "output_type": "execute_result"
    }
   ],
   "source": [
    "As.issuperset(Bs)"
   ]
  },
  {
   "cell_type": "code",
   "execution_count": 53,
   "id": "c63e44a6",
   "metadata": {},
   "outputs": [
    {
     "data": {
      "text/plain": [
       "{1, 2}"
      ]
     },
     "execution_count": 53,
     "metadata": {},
     "output_type": "execute_result"
    }
   ],
   "source": [
    "As.remove(3)\n",
    "As"
   ]
  },
  {
   "cell_type": "code",
   "execution_count": 54,
   "id": "08744164",
   "metadata": {},
   "outputs": [
    {
     "data": {
      "text/plain": [
       "{1, 2, 4}"
      ]
     },
     "execution_count": 54,
     "metadata": {},
     "output_type": "execute_result"
    }
   ],
   "source": [
    "l=4\n",
    "As.add(l)\n",
    "As"
   ]
  },
  {
   "cell_type": "code",
   "execution_count": 55,
   "id": "c524c4ed",
   "metadata": {},
   "outputs": [
    {
     "data": {
      "text/plain": [
       "1"
      ]
     },
     "execution_count": 55,
     "metadata": {},
     "output_type": "execute_result"
    }
   ],
   "source": [
    "As.pop()"
   ]
  },
  {
   "cell_type": "code",
   "execution_count": 60,
   "id": "14a14a8c",
   "metadata": {},
   "outputs": [
    {
     "data": {
      "text/plain": [
       "{1, 2, 4}"
      ]
     },
     "execution_count": 60,
     "metadata": {},
     "output_type": "execute_result"
    }
   ],
   "source": [
    "As.update(Bs)\n",
    "As"
   ]
  },
  {
   "cell_type": "code",
   "execution_count": 61,
   "id": "13e79100",
   "metadata": {},
   "outputs": [
    {
     "data": {
      "text/plain": [
       "{1, 2, 3, 4, 5, 6}"
      ]
     },
     "execution_count": 61,
     "metadata": {},
     "output_type": "execute_result"
    }
   ],
   "source": [
    "a={1,2,3}\n",
    "b={4,5,6}\n",
    "a.update(b)\n",
    "a"
   ]
  },
  {
   "cell_type": "code",
   "execution_count": 135,
   "id": "6ed355f1",
   "metadata": {},
   "outputs": [
    {
     "name": "stdout",
     "output_type": "stream",
     "text": [
      "{2}\n",
      "{2, 3, 4, 5, 6, 8, 10}\n",
      "False\n",
      "False\n",
      "False\n",
      "{3, 4, 5, 6, 8, 10}\n",
      "u size= 1\n",
      "{1}\n"
     ]
    }
   ],
   "source": [
    "s={1,2,3,4,5}\n",
    "t={2,4,6,8,10}\n",
    "u={1}\n",
    "s.pop() #deletes the first element\n",
    "t.remove(4)\n",
    "print(s.intersection(t))\n",
    "print(s.union(t))\n",
    "print(s.isdisjoint(s))\n",
    "print(u.issubset(s))\n",
    "print(s.issuperset(u))\n",
    "print(s.symmetric_difference(t))\n",
    "x=u.copy()\n",
    "print(\"u size=\",len(u))\n",
    "print(x)\n"
   ]
  },
  {
   "cell_type": "markdown",
   "id": "c5dfed09",
   "metadata": {},
   "source": [
    "# dictionary"
   ]
  },
  {
   "cell_type": "code",
   "execution_count": 73,
   "id": "2dfedc7f",
   "metadata": {},
   "outputs": [
    {
     "data": {
      "text/plain": [
       "{'PANDAS': 4, 'NUMPY': 3, 'MATPLOTLIB': 5}"
      ]
     },
     "execution_count": 73,
     "metadata": {},
     "output_type": "execute_result"
    }
   ],
   "source": [
    "d={\"PANDAS\":4,\"NUMPY\":3,\"MATPLOTLIB\":5}\n",
    "d"
   ]
  },
  {
   "cell_type": "code",
   "execution_count": 74,
   "id": "ce533a18",
   "metadata": {},
   "outputs": [
    {
     "data": {
      "text/plain": [
       "4"
      ]
     },
     "execution_count": 74,
     "metadata": {},
     "output_type": "execute_result"
    }
   ],
   "source": [
    "d.get(\"PANDAS\")"
   ]
  },
  {
   "cell_type": "code",
   "execution_count": 75,
   "id": "ee0b4924",
   "metadata": {},
   "outputs": [
    {
     "data": {
      "text/plain": [
       "3"
      ]
     },
     "execution_count": 75,
     "metadata": {},
     "output_type": "execute_result"
    }
   ],
   "source": [
    "d['NUMPY']"
   ]
  },
  {
   "cell_type": "code",
   "execution_count": 76,
   "id": "2d612dd1",
   "metadata": {},
   "outputs": [
    {
     "data": {
      "text/plain": [
       "dict_items([('PANDAS', 4), ('NUMPY', 3), ('MATPLOTLIB', 5)])"
      ]
     },
     "execution_count": 76,
     "metadata": {},
     "output_type": "execute_result"
    }
   ],
   "source": [
    "d.items()"
   ]
  },
  {
   "cell_type": "code",
   "execution_count": 77,
   "id": "cdfd2c60",
   "metadata": {},
   "outputs": [
    {
     "data": {
      "text/plain": [
       "dict_keys(['PANDAS', 'NUMPY', 'MATPLOTLIB'])"
      ]
     },
     "execution_count": 77,
     "metadata": {},
     "output_type": "execute_result"
    }
   ],
   "source": [
    "d.keys()"
   ]
  },
  {
   "cell_type": "code",
   "execution_count": 78,
   "id": "394968ed",
   "metadata": {},
   "outputs": [
    {
     "data": {
      "text/plain": [
       "dict_values([4, 3, 5])"
      ]
     },
     "execution_count": 78,
     "metadata": {},
     "output_type": "execute_result"
    }
   ],
   "source": [
    "d.values()"
   ]
  },
  {
   "cell_type": "code",
   "execution_count": 82,
   "id": "1bcd47a3",
   "metadata": {},
   "outputs": [
    {
     "data": {
      "text/plain": [
       "{'PANDAS': 4, 'NUMPY': 3, 'MATPLOTLIB': 5, 'BASICS': 1}"
      ]
     },
     "execution_count": 82,
     "metadata": {},
     "output_type": "execute_result"
    }
   ],
   "source": [
    "d['BASICS']=1\n",
    "d"
   ]
  },
  {
   "cell_type": "code",
   "execution_count": 84,
   "id": "1ce476f4",
   "metadata": {},
   "outputs": [
    {
     "data": {
      "text/plain": [
       "('BASICS', 1)"
      ]
     },
     "execution_count": 84,
     "metadata": {},
     "output_type": "execute_result"
    }
   ],
   "source": [
    "d.popitem()"
   ]
  },
  {
   "cell_type": "code",
   "execution_count": 85,
   "id": "005368ab",
   "metadata": {},
   "outputs": [
    {
     "data": {
      "text/plain": [
       "{'PANDAS': 4, 'NUMPY': 3, 'MATPLOTLIB': 5}"
      ]
     },
     "execution_count": 85,
     "metadata": {},
     "output_type": "execute_result"
    }
   ],
   "source": [
    "d"
   ]
  },
  {
   "cell_type": "code",
   "execution_count": 86,
   "id": "ae3d5fb8",
   "metadata": {},
   "outputs": [
    {
     "data": {
      "text/plain": [
       "{'PANDAS': 4, 'NUMPY': 3, 'MATPLOTLIB': 5, 'BASICS': 1}"
      ]
     },
     "execution_count": 86,
     "metadata": {},
     "output_type": "execute_result"
    }
   ],
   "source": [
    "d['BASICS']=1\n",
    "d"
   ]
  },
  {
   "cell_type": "code",
   "execution_count": 87,
   "id": "6ea00537",
   "metadata": {},
   "outputs": [
    {
     "data": {
      "text/plain": [
       "1"
      ]
     },
     "execution_count": 87,
     "metadata": {},
     "output_type": "execute_result"
    }
   ],
   "source": [
    "d.pop('BASICS')"
   ]
  },
  {
   "cell_type": "code",
   "execution_count": 88,
   "id": "cdd449d3",
   "metadata": {},
   "outputs": [
    {
     "data": {
      "text/plain": [
       "{'PANDAS': 4, 'NUMPY': 3, 'MATPLOTLIB': 5}"
      ]
     },
     "execution_count": 88,
     "metadata": {},
     "output_type": "execute_result"
    }
   ],
   "source": [
    "d"
   ]
  },
  {
   "cell_type": "code",
   "execution_count": 92,
   "id": "16bcbc92",
   "metadata": {},
   "outputs": [
    {
     "data": {
      "text/plain": [
       "{'PANDAS': 4, 'NUMPY': 3, 'MATPLOTLIB': 5, 'BASICS': 4}"
      ]
     },
     "execution_count": 92,
     "metadata": {},
     "output_type": "execute_result"
    }
   ],
   "source": [
    "d.update({\"BASICS\":4})\n",
    "d"
   ]
  },
  {
   "cell_type": "code",
   "execution_count": 94,
   "id": "ac9673ca",
   "metadata": {},
   "outputs": [
    {
     "data": {
      "text/plain": [
       "4"
      ]
     },
     "execution_count": 94,
     "metadata": {},
     "output_type": "execute_result"
    }
   ],
   "source": [
    "d.pop('BASICS')"
   ]
  },
  {
   "cell_type": "code",
   "execution_count": 95,
   "id": "14680bc9",
   "metadata": {},
   "outputs": [
    {
     "data": {
      "text/plain": [
       "{'PANDAS': 4, 'NUMPY': 3, 'MATPLOTLIB': 5}"
      ]
     },
     "execution_count": 95,
     "metadata": {},
     "output_type": "execute_result"
    }
   ],
   "source": [
    "d"
   ]
  },
  {
   "cell_type": "code",
   "execution_count": 97,
   "id": "270e937f",
   "metadata": {},
   "outputs": [
    {
     "data": {
      "text/plain": [
       "5"
      ]
     },
     "execution_count": 97,
     "metadata": {},
     "output_type": "execute_result"
    }
   ],
   "source": [
    "d.get('MATPLOTLIB')"
   ]
  },
  {
   "cell_type": "code",
   "execution_count": 136,
   "id": "6cdaef67",
   "metadata": {},
   "outputs": [
    {
     "name": "stdout",
     "output_type": "stream",
     "text": [
      "dict_items([(1, 'MONDAY'), (2, 'TUESDAY'), (3, 'WEDNESDAY'), (4, 'THURSDAY'), (5, 'FRIDAY'), (6, 'SATURDAY')])\n",
      "dict_keys([1, 2, 3, 4, 5, 6])\n",
      "dict_values(['MONDAY', 'TUESDAY', 'WEDNESDAY', 'THURSDAY', 'FRIDAY', 'SATURDAY'])\n",
      "6\n",
      "{1: 'MONDAY', 2: 'TUESDAY', 3: 'WEDNESDAY', 4: 'THURSDAY', 5: 'FRIDAY', 6: 'SATURDAY', 7: 'SUNDAY'}\n"
     ]
    }
   ],
   "source": [
    "dict={1:'MONDAY',2:'TUESDAY',3:'WEDNESDAY',4:'THURSDAY',5:'FRIDAY',6:'SATURDAY'}\n",
    "print(dict.items())\n",
    "print(dict.keys())\n",
    "print(dict.values())\n",
    "print(len(dict))\n",
    "dict.update({7:'SUNDAY'})\n",
    "d2=dict.copy()\n",
    "print(dict)\n"
   ]
  },
  {
   "cell_type": "code",
   "execution_count": 2,
   "id": "7efe245d",
   "metadata": {},
   "outputs": [
    {
     "name": "stdout",
     "output_type": "stream",
     "text": [
      "{1: 'a', 2: 'b', 3: 'c', 4: 'd'}\n"
     ]
    }
   ],
   "source": [
    "d1={1:'a',2:'b'}\n",
    "d2={3:'c',4:'d'}\n",
    "d1.update(d2)\n",
    "print(d1)"
   ]
  },
  {
   "cell_type": "markdown",
   "id": "a35373ad",
   "metadata": {},
   "source": [
    "#    OOPS CONCEPTS"
   ]
  },
  {
   "cell_type": "code",
   "execution_count": 133,
   "id": "695e5c6f",
   "metadata": {},
   "outputs": [],
   "source": [
    "class father:\n",
    "    fname='ALAIS'\n",
    "    job='BJ'\n",
    "    def __init__(self,id):\n",
    "        self.id=id\n",
    "    def put_data(self):\n",
    "        print(self.id)\n",
    "        print(self.fname)\n",
    "        print(self.job)"
   ]
  },
  {
   "cell_type": "code",
   "execution_count": 309,
   "id": "8f633644",
   "metadata": {},
   "outputs": [],
   "source": [
    "class Animal:\n",
    "    attr1='Mammal'\n",
    "    def __init__(self,name):\n",
    "        self.name=name\n",
    "    def say(self):\n",
    "        print(\"I AM A\",self.name)"
   ]
  },
  {
   "cell_type": "code",
   "execution_count": 316,
   "id": "b1d87b36",
   "metadata": {},
   "outputs": [
    {
     "name": "stdout",
     "output_type": "stream",
     "text": [
      "I AM A Dog\n",
      "I AM A Cat\n",
      "I AM A Snake\n"
     ]
    }
   ],
   "source": [
    "Tom=Animal('Dog')\n",
    "Tom.say()\n",
    "Tim=Animal('Cat')\n",
    "Tim.say()\n",
    "Python=Animal('Snake')\n",
    "Python.say()"
   ]
  },
  {
   "cell_type": "markdown",
   "id": "db7f7566",
   "metadata": {},
   "source": [
    "# Single Inheritance"
   ]
  },
  {
   "cell_type": "code",
   "execution_count": 334,
   "id": "47d26326",
   "metadata": {},
   "outputs": [
    {
     "name": "stdout",
     "output_type": "stream",
     "text": [
      "I AM SON OF** ALIAS\n",
      "MY FATHER JOB IS** BJ\n",
      "MY JOB IS** BJ INTERN\n"
     ]
    }
   ],
   "source": [
    "class father:   #parent class\n",
    "    fname='ALIAS'\n",
    "    fage=18\n",
    "    fjob='BJ'\n",
    "class son(father):  #child class\n",
    "    sname=\"ALIAS JR\"\n",
    "    sage=8\n",
    "    job='BJ INTERN'\n",
    "    def say(self):\n",
    "        print(\"I AM SON OF**\",self.fname)\n",
    "        print(\"MY FATHER JOB IS**\",self.fjob)\n",
    "        print(\"MY JOB IS**\",self.job)\n",
    "s1=son()\n",
    "s1.say()"
   ]
  },
  {
   "cell_type": "markdown",
   "id": "6b7a8809",
   "metadata": {},
   "source": [
    "# Multiple Inheritance"
   ]
  },
  {
   "cell_type": "code",
   "execution_count": 351,
   "id": "2443663f",
   "metadata": {},
   "outputs": [
    {
     "name": "stdout",
     "output_type": "stream",
     "text": [
      "I AM SON OF** ALIAS  AND  XYZ\n",
      "MY FATHER JOB IS** BJ\n",
      "MY JOB IS** BJ INTERN\n"
     ]
    }
   ],
   "source": [
    "class father:   #parent class1\n",
    "    fname='ALIAS'\n",
    "    fage=18\n",
    "    fjob='BJ'\n",
    "class mother:   #parent class2\n",
    "    mname='XYZ'\n",
    "    mage=16\n",
    "class son(father,mother):  #child class\n",
    "    sname=\"ALIAS JR\"\n",
    "    sage=8\n",
    "    job='BJ INTERN'\n",
    "    def say(self):\n",
    "        print(\"I AM SON OF**\",self.fname,\" AND \",self.mname)\n",
    "        print(\"MY FATHER JOB IS**\",self.fjob)\n",
    "        print(\"MY JOB IS**\",self.job)\n",
    "f=father()\n",
    "m=mother()\n",
    "s=son()\n",
    "s.say()"
   ]
  },
  {
   "cell_type": "markdown",
   "id": "c099f578",
   "metadata": {},
   "source": [
    "# Multi-level Inheritance"
   ]
  },
  {
   "cell_type": "code",
   "execution_count": 355,
   "id": "c036c22d",
   "metadata": {},
   "outputs": [
    {
     "name": "stdout",
     "output_type": "stream",
     "text": [
      "I AM GRANDSON OF** ALIAS\n",
      "MY GRANDFATHER JOB IS** BJ SCIENTIST\n",
      "MY FATHER JOB IS** BJ ANALYST\n",
      "MY JOB IS** BJ INTERN\n"
     ]
    }
   ],
   "source": [
    "class gfather:   #parent class1\n",
    "    gfname='ALIAS'\n",
    "    gfage=18\n",
    "    gfjob='BJ SCIENTIST'\n",
    "class father:\n",
    "    fname='ALIAS JR 1'\n",
    "    fage=8\n",
    "    fjob='BJ ANALYST'\n",
    "class gson(gfather,father):  #child class\n",
    "    gsname=\"ALIAS JR 2\"\n",
    "    gsage=2\n",
    "    gsjob='BJ INTERN'\n",
    "    def say(self):\n",
    "        print(\"I AM GRANDSON OF**\",self.gfname)\n",
    "        print(\"MY GRANDFATHER JOB IS**\",self.gfjob)\n",
    "        print(\"MY FATHER JOB IS**\",self.fjob)\n",
    "        print(\"MY JOB IS**\",self.gsjob)\n",
    "gf=gfather()\n",
    "f=father()\n",
    "gs=gson()\n",
    "gs.say()"
   ]
  },
  {
   "cell_type": "markdown",
   "id": "09ce3ec3",
   "metadata": {},
   "source": [
    "# Heirarchial Inheritance"
   ]
  },
  {
   "cell_type": "code",
   "execution_count": 363,
   "id": "7d1244c9",
   "metadata": {},
   "outputs": [
    {
     "data": {
      "text/plain": [
       "100"
      ]
     },
     "execution_count": 363,
     "metadata": {},
     "output_type": "execute_result"
    }
   ],
   "source": [
    "class exam:\n",
    "    total_marks=100\n",
    "class cat(exam):\n",
    "    tcat_marks=50\n",
    "class model(exam):\n",
    "    tmod_marks=75\n",
    "m=model()\n",
    "m.total_marks"
   ]
  },
  {
   "cell_type": "markdown",
   "id": "88f87ed9",
   "metadata": {},
   "source": [
    "# Access Modifiers"
   ]
  },
  {
   "cell_type": "markdown",
   "id": "f990a287",
   "metadata": {},
   "source": [
    "# PUBLIC     ."
   ]
  },
  {
   "cell_type": "code",
   "execution_count": 33,
   "id": "ea191bf0",
   "metadata": {},
   "outputs": [],
   "source": [
    "class student:\n",
    "    def __init__(self,name,age):\n",
    "        self.name=name\n",
    "        self.age=age\n",
    "    def displayage(self):\n",
    "        return self.age\n",
    "o1=student('ABC',18)\n"
   ]
  },
  {
   "cell_type": "markdown",
   "id": "717c85ac",
   "metadata": {},
   "source": [
    "# PROTECTED     ._"
   ]
  },
  {
   "cell_type": "code",
   "execution_count": 35,
   "id": "2e0c6ac4",
   "metadata": {},
   "outputs": [
    {
     "data": {
      "text/plain": [
       "18"
      ]
     },
     "execution_count": 35,
     "metadata": {},
     "output_type": "execute_result"
    }
   ],
   "source": [
    "class student:\n",
    "    def __init__(self,name,age):\n",
    "        self._name=name\n",
    "        self._age=age\n",
    "    def displayage(self):\n",
    "        return self._age\n",
    "o1=student('PQR',18)\n",
    "o1._age"
   ]
  },
  {
   "cell_type": "markdown",
   "id": "4660de3a",
   "metadata": {},
   "source": [
    "# PRIVATE      .__"
   ]
  },
  {
   "cell_type": "code",
   "execution_count": 29,
   "id": "c84978f3",
   "metadata": {},
   "outputs": [
    {
     "ename": "AttributeError",
     "evalue": "'student' object has no attribute '__age'",
     "output_type": "error",
     "traceback": [
      "\u001b[1;31m---------------------------------------------------------------------------\u001b[0m",
      "\u001b[1;31mAttributeError\u001b[0m                            Traceback (most recent call last)",
      "Input \u001b[1;32mIn [29]\u001b[0m, in \u001b[0;36m<cell line: 9>\u001b[1;34m()\u001b[0m\n\u001b[0;32m      6\u001b[0m         \u001b[38;5;28;01mreturn\u001b[39;00m \u001b[38;5;28mself\u001b[39m\u001b[38;5;241m.\u001b[39m__age\n\u001b[0;32m      8\u001b[0m o1\u001b[38;5;241m=\u001b[39mstudent(\u001b[38;5;124m'\u001b[39m\u001b[38;5;124mXYZ\u001b[39m\u001b[38;5;124m'\u001b[39m,\u001b[38;5;241m18\u001b[39m)\n\u001b[1;32m----> 9\u001b[0m \u001b[43mo1\u001b[49m\u001b[38;5;241;43m.\u001b[39;49m\u001b[43m__age\u001b[49m\n",
      "\u001b[1;31mAttributeError\u001b[0m: 'student' object has no attribute '__age'"
     ]
    }
   ],
   "source": [
    "class student:\n",
    "    def __init__(self,name,age):\n",
    "        self.__name=name\n",
    "        self.__age=age\n",
    "    def displayage(self):\n",
    "        return self.__age\n",
    "    \n",
    "o1=student('XYZ',18)\n",
    "o1.__age"
   ]
  },
  {
   "cell_type": "markdown",
   "id": "46659de2",
   "metadata": {},
   "source": [
    "# Exception Handling"
   ]
  },
  {
   "cell_type": "code",
   "execution_count": 168,
   "id": "b2adfd4c",
   "metadata": {},
   "outputs": [
    {
     "name": "stdout",
     "output_type": "stream",
     "text": [
      "3\n"
     ]
    }
   ],
   "source": [
    "l=[1,2,3]\n",
    "def get_val(i,arr):\n",
    "    print(arr[i])\n",
    "get_val(2,l)"
   ]
  },
  {
   "cell_type": "code",
   "execution_count": 193,
   "id": "884fcf06",
   "metadata": {},
   "outputs": [
    {
     "name": "stdout",
     "output_type": "stream",
     "text": [
      "3\n",
      "2\n",
      "Valid Index Please!!!\n"
     ]
    }
   ],
   "source": [
    "try:\n",
    "    get_val(2,l)\n",
    "    get_val(1,l)\n",
    "    get_val(33,l)\n",
    "    get_val(\"hello\",l)\n",
    "except IndexError:\n",
    "    print(\"Valid Index Please!!!\")\n",
    "except TypeError:\n",
    "    print(\"Valid Datatype Please!!!\")"
   ]
  },
  {
   "cell_type": "code",
   "execution_count": null,
   "id": "4cb631f8",
   "metadata": {},
   "outputs": [],
   "source": []
  },
  {
   "cell_type": "code",
   "execution_count": 206,
   "id": "044e72f7",
   "metadata": {},
   "outputs": [],
   "source": [
    "def division(a,b):\n",
    "    if(b==0):\n",
    "        raise Exception(\"***ZeroDivisionError**** Denominator =0 leads to infinity\")\n",
    "    else:\n",
    "        print(a/b) "
   ]
  },
  {
   "cell_type": "code",
   "execution_count": 207,
   "id": "092a1010",
   "metadata": {
    "scrolled": true
   },
   "outputs": [
    {
     "name": "stdout",
     "output_type": "stream",
     "text": [
      "0.6666666666666666\n"
     ]
    },
    {
     "ename": "Exception",
     "evalue": "***ZeroDivisionError**** Denominator =0 leads to infinity",
     "output_type": "error",
     "traceback": [
      "\u001b[1;31m---------------------------------------------------------------------------\u001b[0m",
      "\u001b[1;31mException\u001b[0m                                 Traceback (most recent call last)",
      "Input \u001b[1;32mIn [207]\u001b[0m, in \u001b[0;36m<cell line: 2>\u001b[1;34m()\u001b[0m\n\u001b[0;32m      1\u001b[0m division(\u001b[38;5;241m2\u001b[39m,\u001b[38;5;241m3\u001b[39m)\n\u001b[1;32m----> 2\u001b[0m \u001b[43mdivision\u001b[49m\u001b[43m(\u001b[49m\u001b[38;5;241;43m1\u001b[39;49m\u001b[43m,\u001b[49m\u001b[38;5;241;43m0\u001b[39;49m\u001b[43m)\u001b[49m\n",
      "Input \u001b[1;32mIn [206]\u001b[0m, in \u001b[0;36mdivision\u001b[1;34m(a, b)\u001b[0m\n\u001b[0;32m      1\u001b[0m \u001b[38;5;28;01mdef\u001b[39;00m \u001b[38;5;21mdivision\u001b[39m(a,b):\n\u001b[0;32m      2\u001b[0m     \u001b[38;5;28;01mif\u001b[39;00m(b\u001b[38;5;241m==\u001b[39m\u001b[38;5;241m0\u001b[39m):\n\u001b[1;32m----> 3\u001b[0m         \u001b[38;5;28;01mraise\u001b[39;00m \u001b[38;5;167;01mException\u001b[39;00m(\u001b[38;5;124m\"\u001b[39m\u001b[38;5;124m***ZeroDivisionError**** Denominator =0 leads to infinity\u001b[39m\u001b[38;5;124m\"\u001b[39m)\n\u001b[0;32m      4\u001b[0m     \u001b[38;5;28;01melse\u001b[39;00m:\n\u001b[0;32m      5\u001b[0m         \u001b[38;5;28mprint\u001b[39m(a\u001b[38;5;241m/\u001b[39mb)\n",
      "\u001b[1;31mException\u001b[0m: ***ZeroDivisionError**** Denominator =0 leads to infinity"
     ]
    }
   ],
   "source": [
    "division(2,3)\n",
    "division(1,0)"
   ]
  },
  {
   "cell_type": "markdown",
   "id": "8cd29738",
   "metadata": {},
   "source": [
    "# Regular Expression(re)"
   ]
  },
  {
   "cell_type": "code",
   "execution_count": 208,
   "id": "f766a8e7",
   "metadata": {},
   "outputs": [],
   "source": [
    "import re"
   ]
  },
  {
   "cell_type": "code",
   "execution_count": 231,
   "id": "6b25947a",
   "metadata": {},
   "outputs": [
    {
     "data": {
      "text/plain": [
       "<re.Match object; span=(7, 9), match='av'>"
      ]
     },
     "execution_count": 231,
     "metadata": {},
     "output_type": "execute_result"
    }
   ],
   "source": [
    "txt=\"hello Java\"\n",
    "x=re.search(\"av\",txt)\n",
    "x"
   ]
  },
  {
   "cell_type": "code",
   "execution_count": 247,
   "id": "b4f3d041",
   "metadata": {},
   "outputs": [
    {
     "data": {
      "text/plain": [
       "['lo', 'lo', 'lo', 'lo']"
      ]
     },
     "execution_count": 247,
     "metadata": {},
     "output_type": "execute_result"
    }
   ],
   "source": [
    "txt2=\"hello Java hello Python hello Go hello C#\"\n",
    "y=re.findall(\"lo\",txt2)\n",
    "y"
   ]
  },
  {
   "cell_type": "code",
   "execution_count": 248,
   "id": "c2d55118",
   "metadata": {},
   "outputs": [
    {
     "data": {
      "text/plain": [
       "['', ' Java ', ' Python ', ' Go ', ' C#']"
      ]
     },
     "execution_count": 248,
     "metadata": {},
     "output_type": "execute_result"
    }
   ],
   "source": [
    "z=re.split(\"hello\",txt2)\n",
    "z"
   ]
  },
  {
   "cell_type": "code",
   "execution_count": 251,
   "id": "3bcca53b",
   "metadata": {},
   "outputs": [
    {
     "data": {
      "text/plain": [
       "'Hello Java Hello Python Hello Go Hello C#'"
      ]
     },
     "execution_count": 251,
     "metadata": {},
     "output_type": "execute_result"
    }
   ],
   "source": [
    "q=re.sub(\"hello\",\"Hello\",txt2)\n",
    "q"
   ]
  },
  {
   "cell_type": "code",
   "execution_count": null,
   "id": "1fcb72a7",
   "metadata": {},
   "outputs": [],
   "source": []
  },
  {
   "cell_type": "markdown",
   "id": "d43e27a5",
   "metadata": {},
   "source": [
    "# PRACTICE"
   ]
  },
  {
   "cell_type": "code",
   "execution_count": 261,
   "id": "7ef9044c",
   "metadata": {},
   "outputs": [
    {
     "name": "stdout",
     "output_type": "stream",
     "text": [
      "0.6666666666666666\n"
     ]
    },
    {
     "ename": "Exception",
     "evalue": "Denominator cannot be Zero",
     "output_type": "error",
     "traceback": [
      "\u001b[1;31m---------------------------------------------------------------------------\u001b[0m",
      "\u001b[1;31mException\u001b[0m                                 Traceback (most recent call last)",
      "Input \u001b[1;32mIn [261]\u001b[0m, in \u001b[0;36m<cell line: 8>\u001b[1;34m()\u001b[0m\n\u001b[0;32m      6\u001b[0m         \u001b[38;5;28mprint\u001b[39m(a\u001b[38;5;241m/\u001b[39mb)\n\u001b[0;32m      7\u001b[0m div_(\u001b[38;5;241m2\u001b[39m,\u001b[38;5;241m3\u001b[39m)\n\u001b[1;32m----> 8\u001b[0m \u001b[43mdiv_\u001b[49m\u001b[43m(\u001b[49m\u001b[38;5;241;43m-\u001b[39;49m\u001b[38;5;241;43m4\u001b[39;49m\u001b[43m,\u001b[49m\u001b[38;5;241;43m0\u001b[39;49m\u001b[43m)\u001b[49m\n",
      "Input \u001b[1;32mIn [261]\u001b[0m, in \u001b[0;36mdiv_\u001b[1;34m(a, b)\u001b[0m\n\u001b[0;32m      2\u001b[0m \u001b[38;5;28;01mdef\u001b[39;00m \u001b[38;5;21mdiv_\u001b[39m(a,b):\n\u001b[0;32m      3\u001b[0m     \u001b[38;5;28;01mif\u001b[39;00m(b\u001b[38;5;241m==\u001b[39m\u001b[38;5;241m0\u001b[39m):\n\u001b[1;32m----> 4\u001b[0m         \u001b[38;5;28;01mraise\u001b[39;00m \u001b[38;5;167;01mException\u001b[39;00m(\u001b[38;5;124m'\u001b[39m\u001b[38;5;124mDenominator cannot be Zero\u001b[39m\u001b[38;5;124m'\u001b[39m)\n\u001b[0;32m      5\u001b[0m     \u001b[38;5;28;01melse\u001b[39;00m:\n\u001b[0;32m      6\u001b[0m         \u001b[38;5;28mprint\u001b[39m(a\u001b[38;5;241m/\u001b[39mb)\n",
      "\u001b[1;31mException\u001b[0m: Denominator cannot be Zero"
     ]
    }
   ],
   "source": [
    "#exeception hnadling1\n",
    "def div_(a,b):\n",
    "    if(b==0):\n",
    "        raise Exception('Denominator cannot be Zero')\n",
    "    else:\n",
    "        print(a/b)\n",
    "div_(2,3)\n",
    "div_(-4,0)"
   ]
  },
  {
   "cell_type": "code",
   "execution_count": 274,
   "id": "10b7b4b8",
   "metadata": {},
   "outputs": [
    {
     "name": "stdout",
     "output_type": "stream",
     "text": [
      "0\n",
      "Wrong Index given\n"
     ]
    }
   ],
   "source": [
    "#exception handling2\n",
    "l=[0,1,2]\n",
    "def get_val(i,arr):\n",
    "    print(arr[i])\n",
    "try:\n",
    "    get_val(0,l)\n",
    "    get_val(-4,l)\n",
    "    get_val(\"hello\",l)\n",
    "except IndexError:\n",
    "    print(\"Wrong Index given\")\n",
    "except TypeError:\n",
    "    print(\"Wrong Datatype given\")"
   ]
  },
  {
   "cell_type": "code",
   "execution_count": 284,
   "id": "038f4df9",
   "metadata": {},
   "outputs": [
    {
     "data": {
      "text/plain": [
       "<re.Match object; span=(7, 9), match='av'>"
      ]
     },
     "execution_count": 284,
     "metadata": {},
     "output_type": "execute_result"
    }
   ],
   "source": [
    "#regular expression1\n",
    "txt=\"hello Java\"\n",
    "x=re.search('av',txt)\n",
    "x"
   ]
  },
  {
   "cell_type": "code",
   "execution_count": 291,
   "id": "3d715bb3",
   "metadata": {},
   "outputs": [
    {
     "data": {
      "text/plain": [
       "['o', 'o', 'o', 'o', 'o', 'o']"
      ]
     },
     "execution_count": 291,
     "metadata": {},
     "output_type": "execute_result"
    }
   ],
   "source": [
    "#re2\n",
    "txt2=\"hello Java hello Python hello C# hello Go\"\n",
    "y=re.findall('o',txt2)\n",
    "y"
   ]
  },
  {
   "cell_type": "code",
   "execution_count": 292,
   "id": "ea42fca6",
   "metadata": {},
   "outputs": [
    {
     "data": {
      "text/plain": [
       "['', ' Java ', ' Python ', ' C# ', ' Go']"
      ]
     },
     "execution_count": 292,
     "metadata": {},
     "output_type": "execute_result"
    }
   ],
   "source": [
    "#re3(split)\n",
    "z=re.split(\"hello\",txt2)\n",
    "z"
   ]
  },
  {
   "cell_type": "code",
   "execution_count": 294,
   "id": "5c393e4a",
   "metadata": {},
   "outputs": [
    {
     "data": {
      "text/plain": [
       "'Learn Java Learn Python Learn C# Learn Go'"
      ]
     },
     "execution_count": 294,
     "metadata": {},
     "output_type": "execute_result"
    }
   ],
   "source": [
    "#re4(sub)\n",
    "q=re.sub('hello','Learn',txt2)\n",
    "q"
   ]
  },
  {
   "cell_type": "code",
   "execution_count": 391,
   "id": "4cb34532",
   "metadata": {},
   "outputs": [
    {
     "data": {
      "text/plain": [
       "{'name': ['rajan', 'pragaaj', 'muthu'], 'age': [36, 38, 38]}"
      ]
     },
     "execution_count": 391,
     "metadata": {},
     "output_type": "execute_result"
    }
   ],
   "source": [
    "x={}\n",
    "x['name']=['rajan','pragaaj','muthu']\n",
    "x['age']=[36,38,38]\n",
    "x"
   ]
  },
  {
   "cell_type": "code",
   "execution_count": 394,
   "id": "7e6b1db2",
   "metadata": {},
   "outputs": [],
   "source": [
    "x.update({'name':['Rajan','Pragaaj','Muthu']})"
   ]
  },
  {
   "cell_type": "code",
   "execution_count": 397,
   "id": "88bfc203",
   "metadata": {},
   "outputs": [],
   "source": [
    "x.update({'institution':['SMVEC','SMVEC','SMVEC']})"
   ]
  },
  {
   "cell_type": "code",
   "execution_count": 414,
   "id": "c36f5fca",
   "metadata": {},
   "outputs": [],
   "source": [
    "s1={1,2}\n",
    "s2={1,4}\n",
    "s1.add(6)"
   ]
  },
  {
   "cell_type": "code",
   "execution_count": 415,
   "id": "60867cfd",
   "metadata": {},
   "outputs": [
    {
     "data": {
      "text/plain": [
       "{1, 2, 6}"
      ]
     },
     "execution_count": 415,
     "metadata": {},
     "output_type": "execute_result"
    }
   ],
   "source": [
    "s1"
   ]
  },
  {
   "cell_type": "code",
   "execution_count": 417,
   "id": "37354198",
   "metadata": {},
   "outputs": [
    {
     "data": {
      "text/plain": [
       "{1, 2, 4, 6}"
      ]
     },
     "execution_count": 417,
     "metadata": {},
     "output_type": "execute_result"
    }
   ],
   "source": [
    "s1.update(s2)\n",
    "s1"
   ]
  },
  {
   "cell_type": "code",
   "execution_count": 17,
   "id": "40d68941",
   "metadata": {},
   "outputs": [
    {
     "ename": "Exception",
     "evalue": "DENOMINATOR CANNNOT BE ZERO AS IT CAUSES ZERO DIVISION ERROR",
     "output_type": "error",
     "traceback": [
      "\u001b[1;31m---------------------------------------------------------------------------\u001b[0m",
      "\u001b[1;31mException\u001b[0m                                 Traceback (most recent call last)",
      "Input \u001b[1;32mIn [17]\u001b[0m, in \u001b[0;36m<cell line: 9>\u001b[1;34m()\u001b[0m\n\u001b[0;32m      6\u001b[0m         \u001b[38;5;28;01mreturn\u001b[39;00m x\n\u001b[0;32m      8\u001b[0m d(\u001b[38;5;241m1\u001b[39m,\u001b[38;5;241m1\u001b[39m)\n\u001b[1;32m----> 9\u001b[0m \u001b[43md\u001b[49m\u001b[43m(\u001b[49m\u001b[38;5;241;43m2\u001b[39;49m\u001b[43m,\u001b[49m\u001b[38;5;241;43m0\u001b[39;49m\u001b[43m)\u001b[49m\n",
      "Input \u001b[1;32mIn [17]\u001b[0m, in \u001b[0;36md\u001b[1;34m(a, b)\u001b[0m\n\u001b[0;32m      1\u001b[0m \u001b[38;5;28;01mdef\u001b[39;00m \u001b[38;5;21md\u001b[39m(a,b):\n\u001b[0;32m      2\u001b[0m     \u001b[38;5;28;01mif\u001b[39;00m(b\u001b[38;5;241m==\u001b[39m\u001b[38;5;241m0\u001b[39m):\n\u001b[1;32m----> 3\u001b[0m         \u001b[38;5;28;01mraise\u001b[39;00m \u001b[38;5;167;01mException\u001b[39;00m(\u001b[38;5;124m'\u001b[39m\u001b[38;5;124mDENOMINATOR CANNNOT BE ZERO AS IT CAUSES ZERO DIVISION ERROR\u001b[39m\u001b[38;5;124m'\u001b[39m)\n\u001b[0;32m      4\u001b[0m     \u001b[38;5;28;01melse\u001b[39;00m:\n\u001b[0;32m      5\u001b[0m         x\u001b[38;5;241m=\u001b[39ma\u001b[38;5;241m/\u001b[39mb\n",
      "\u001b[1;31mException\u001b[0m: DENOMINATOR CANNNOT BE ZERO AS IT CAUSES ZERO DIVISION ERROR"
     ]
    }
   ],
   "source": [
    "def d(a,b):\n",
    "    if(b==0):\n",
    "        raise Exception('DENOMINATOR CANNNOT BE ZERO AS IT CAUSES ZERO DIVISION ERROR')\n",
    "    else:\n",
    "        x=a/b\n",
    "        return x\n",
    "        \n",
    "d(1,1)\n",
    "d(2,0)"
   ]
  },
  {
   "cell_type": "code",
   "execution_count": 30,
   "id": "0f98d310",
   "metadata": {},
   "outputs": [
    {
     "name": "stdout",
     "output_type": "stream",
     "text": [
      "3\n"
     ]
    }
   ],
   "source": [
    "def getval(idx,arr):\n",
    "    print(arr[idx])\n",
    "l=[1,2,3]\n",
    "v=2\n",
    "getval(v,l)"
   ]
  },
  {
   "cell_type": "code",
   "execution_count": 37,
   "id": "a020c46e",
   "metadata": {},
   "outputs": [
    {
     "name": "stdout",
     "output_type": "stream",
     "text": [
      "1\n",
      "finally block\n"
     ]
    }
   ],
   "source": [
    "try:\n",
    "    getval(1,[0,1])\n",
    "    \n",
    "except IndexError:\n",
    "    print(\"requires right index\")\n",
    "except TypeError:\n",
    "    print(\"requires right datatype\")\n",
    "finally:\n",
    "    print(\"finally block\")"
   ]
  },
  {
   "cell_type": "code",
   "execution_count": 51,
   "id": "1a76c6fd",
   "metadata": {},
   "outputs": [
    {
     "name": "stdout",
     "output_type": "stream",
     "text": [
      "<re.Match object; span=(4, 5), match='o'>\n",
      "['o', 'o', 'o', 'o', 'o', 'o']\n",
      "['', ' Python ', ' Java ', ' Go ', ' C#']\n",
      "Learn Python Learn Java Learn Go Learn C#\n"
     ]
    }
   ],
   "source": [
    "import re\n",
    "txt='hello world'\n",
    "x=re.search('o',txt)\n",
    "print(x)\n",
    "txt2=\"hello Python hello Java hello Go hello C#\"\n",
    "y=re.findall('o',txt2)\n",
    "print(y)\n",
    "z=re.split('hello',txt2)\n",
    "print(z)\n",
    "q=re.sub('hello','Learn',txt2)\n",
    "print(q)"
   ]
  },
  {
   "cell_type": "code",
   "execution_count": null,
   "id": "6321b856",
   "metadata": {},
   "outputs": [],
   "source": []
  }
 ],
 "metadata": {
  "kernelspec": {
   "display_name": "Python 3 (ipykernel)",
   "language": "python",
   "name": "python3"
  },
  "language_info": {
   "codemirror_mode": {
    "name": "ipython",
    "version": 3
   },
   "file_extension": ".py",
   "mimetype": "text/x-python",
   "name": "python",
   "nbconvert_exporter": "python",
   "pygments_lexer": "ipython3",
   "version": "3.9.12"
  }
 },
 "nbformat": 4,
 "nbformat_minor": 5
}
