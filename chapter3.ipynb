{
 "cells": [
  {
   "cell_type": "markdown",
   "id": "05ab359d",
   "metadata": {},
   "source": [
    "# Numpy arrays"
   ]
  },
  {
   "cell_type": "markdown",
   "id": "b99671c4",
   "metadata": {},
   "source": [
    "# Aggregate functions"
   ]
  },
  {
   "cell_type": "code",
   "execution_count": 32,
   "id": "b15538ed",
   "metadata": {},
   "outputs": [],
   "source": [
    "import numpy as np"
   ]
  },
  {
   "cell_type": "code",
   "execution_count": 33,
   "id": "6138704d",
   "metadata": {},
   "outputs": [
    {
     "data": {
      "text/plain": [
       "array([98, 24, 27, 71, 78, 83, 90, 78, 72, 50, 42, 59, 27, 31, 31, 27, 89,\n",
       "       86, 76, 46, 30, 85, 22, 87, 96, 50, 77, 11, 93, 24, 16, 66, 79, 14,\n",
       "       87, 84, 83, 91, 87, 87])"
      ]
     },
     "execution_count": 33,
     "metadata": {},
     "output_type": "execute_result"
    }
   ],
   "source": [
    "L=np.random.randint(10,100,40)\n",
    "L"
   ]
  },
  {
   "cell_type": "code",
   "execution_count": 34,
   "id": "8636d7b7",
   "metadata": {},
   "outputs": [
    {
     "data": {
      "text/plain": [
       "2454"
      ]
     },
     "execution_count": 34,
     "metadata": {},
     "output_type": "execute_result"
    }
   ],
   "source": [
    "np.sum(L)"
   ]
  },
  {
   "cell_type": "code",
   "execution_count": 35,
   "id": "186e1188",
   "metadata": {},
   "outputs": [
    {
     "data": {
      "text/plain": [
       "98"
      ]
     },
     "execution_count": 35,
     "metadata": {},
     "output_type": "execute_result"
    }
   ],
   "source": [
    "np.max(L)"
   ]
  },
  {
   "cell_type": "code",
   "execution_count": 36,
   "id": "053fa5f1",
   "metadata": {},
   "outputs": [
    {
     "data": {
      "text/plain": [
       "array([[2, 6, 6],\n",
       "       [4, 4, 5],\n",
       "       [4, 8, 2]])"
      ]
     },
     "execution_count": 36,
     "metadata": {},
     "output_type": "execute_result"
    }
   ],
   "source": [
    "M=np.random.randint(0,10,(3,3))\n",
    "M"
   ]
  },
  {
   "cell_type": "code",
   "execution_count": 37,
   "id": "fc5122e0",
   "metadata": {},
   "outputs": [
    {
     "data": {
      "text/plain": [
       "array([[2, 4, 2],\n",
       "       [4, 6, 5],\n",
       "       [4, 8, 6]])"
      ]
     },
     "execution_count": 37,
     "metadata": {},
     "output_type": "execute_result"
    }
   ],
   "source": [
    "np.sort(M,axis=0)"
   ]
  },
  {
   "cell_type": "code",
   "execution_count": 38,
   "id": "721c038f",
   "metadata": {},
   "outputs": [
    {
     "data": {
      "text/plain": [
       "array([[0, 1, 2],\n",
       "       [1, 0, 1],\n",
       "       [2, 2, 0]], dtype=int64)"
      ]
     },
     "execution_count": 38,
     "metadata": {},
     "output_type": "execute_result"
    }
   ],
   "source": [
    "np.argsort(M,axis=0)"
   ]
  },
  {
   "cell_type": "code",
   "execution_count": 39,
   "id": "51af5c85",
   "metadata": {},
   "outputs": [
    {
     "data": {
      "text/plain": [
       "array([6, 5, 8])"
      ]
     },
     "execution_count": 39,
     "metadata": {},
     "output_type": "execute_result"
    }
   ],
   "source": [
    "np.max(M,axis=1)"
   ]
  },
  {
   "cell_type": "code",
   "execution_count": 40,
   "id": "c23d4946",
   "metadata": {},
   "outputs": [
    {
     "data": {
      "text/plain": [
       "4.0"
      ]
     },
     "execution_count": 40,
     "metadata": {},
     "output_type": "execute_result"
    }
   ],
   "source": [
    "np.median(M)"
   ]
  },
  {
   "cell_type": "code",
   "execution_count": 41,
   "id": "7f3e6503",
   "metadata": {},
   "outputs": [
    {
     "data": {
      "text/plain": [
       "4.555555555555555"
      ]
     },
     "execution_count": 41,
     "metadata": {},
     "output_type": "execute_result"
    }
   ],
   "source": [
    "np.mean(M)"
   ]
  },
  {
   "cell_type": "code",
   "execution_count": 42,
   "id": "d620c70c",
   "metadata": {},
   "outputs": [
    {
     "data": {
      "text/plain": [
       "4.555555555555555"
      ]
     },
     "execution_count": 42,
     "metadata": {},
     "output_type": "execute_result"
    }
   ],
   "source": [
    "np.average(M)"
   ]
  },
  {
   "cell_type": "code",
   "execution_count": 43,
   "id": "f6c5dab7",
   "metadata": {},
   "outputs": [
    {
     "data": {
      "text/plain": [
       "1.8324913891634047"
      ]
     },
     "execution_count": 43,
     "metadata": {},
     "output_type": "execute_result"
    }
   ],
   "source": [
    "np.std(M)"
   ]
  },
  {
   "cell_type": "code",
   "execution_count": 44,
   "id": "8fd9b891",
   "metadata": {},
   "outputs": [
    {
     "data": {
      "text/plain": [
       "array([4.66666667, 4.33333333, 4.66666667])"
      ]
     },
     "execution_count": 44,
     "metadata": {},
     "output_type": "execute_result"
    }
   ],
   "source": [
    "np.mean(M,axis=1)"
   ]
  },
  {
   "cell_type": "markdown",
   "id": "4c0c34cc",
   "metadata": {},
   "source": [
    "# Indexing and sorting"
   ]
  },
  {
   "cell_type": "code",
   "execution_count": 55,
   "id": "47d77c91",
   "metadata": {},
   "outputs": [
    {
     "data": {
      "text/plain": [
       "array([[2, 6, 6],\n",
       "       [4, 4, 5],\n",
       "       [4, 8, 2]])"
      ]
     },
     "execution_count": 55,
     "metadata": {},
     "output_type": "execute_result"
    }
   ],
   "source": [
    "M"
   ]
  },
  {
   "cell_type": "code",
   "execution_count": 58,
   "id": "1b744a0d",
   "metadata": {},
   "outputs": [
    {
     "data": {
      "text/plain": [
       "array([[2, 6, 6],\n",
       "       [4, 4, 5],\n",
       "       [4, 8, 2]])"
      ]
     },
     "execution_count": 58,
     "metadata": {},
     "output_type": "execute_result"
    }
   ],
   "source": [
    "M"
   ]
  },
  {
   "cell_type": "code",
   "execution_count": 64,
   "id": "3a65f757",
   "metadata": {},
   "outputs": [
    {
     "data": {
      "text/plain": [
       "(array([0, 1], dtype=int64),)"
      ]
     },
     "execution_count": 64,
     "metadata": {},
     "output_type": "execute_result"
    }
   ],
   "source": [
    "a=np.array([1,3,5,7,9])\n",
    "np.where(a<4)  #returns the array of integer indices where the condition is satisfied"
   ]
  },
  {
   "cell_type": "markdown",
   "id": "d94b3f73",
   "metadata": {},
   "source": [
    "# Structured Numpy Array"
   ]
  },
  {
   "cell_type": "code",
   "execution_count": 84,
   "id": "36cbe5a6",
   "metadata": {},
   "outputs": [
    {
     "data": {
      "text/plain": [
       "array([(1, 'Rolex', 168.6), (2, 'Dilli', 180.3)],\n",
       "      dtype=[('ID', '<i4'), ('Name', '<U20'), ('Height', '<f8')])"
      ]
     },
     "execution_count": 84,
     "metadata": {},
     "output_type": "execute_result"
    }
   ],
   "source": [
    "import numpy as np\n",
    "arr=np.array([(1,'Rolex',168.6),(2,'Dilli',180.3)],dtype=[('ID','i4'),('Name','U20'),('Height','f8')])\n",
    "arr"
   ]
  },
  {
   "cell_type": "code",
   "execution_count": 86,
   "id": "19ffe26c",
   "metadata": {},
   "outputs": [
    {
     "data": {
      "text/plain": [
       "'Structured Numpy array is similar to struct to C it is overall an user defined array in numpy where the datatypes of the attributes are specified by user'"
      ]
     },
     "execution_count": 86,
     "metadata": {},
     "output_type": "execute_result"
    }
   ],
   "source": [
    "'''Structured Numpy array is similar to struct to C it is overall an user defined array in numpy where the datatypes of the attributes are specified by user'''"
   ]
  },
  {
   "cell_type": "markdown",
   "id": "91e89e85",
   "metadata": {},
   "source": [
    "# Comparision,Masks and Boolean Arrays"
   ]
  },
  {
   "cell_type": "code",
   "execution_count": 3,
   "id": "adc50dbe",
   "metadata": {},
   "outputs": [
    {
     "data": {
      "text/plain": [
       "array([10, 20, 30, 40, 35, 38, 46, 54, 50, 68, 60, 60])"
      ]
     },
     "execution_count": 3,
     "metadata": {},
     "output_type": "execute_result"
    }
   ],
   "source": [
    "import numpy as np\n",
    "sales=[10,20,30,40,35,38,46,54,50,68,60,60]\n",
    "arr=np.array(sales)\n",
    "arr"
   ]
  },
  {
   "cell_type": "code",
   "execution_count": 6,
   "id": "4ae8a41a",
   "metadata": {},
   "outputs": [
    {
     "data": {
      "text/plain": [
       "array([46, 54, 50, 68, 60, 60])"
      ]
     },
     "execution_count": 6,
     "metadata": {},
     "output_type": "execute_result"
    }
   ],
   "source": [
    "arr[arr>40]"
   ]
  },
  {
   "cell_type": "code",
   "execution_count": 7,
   "id": "21d1cc4a",
   "metadata": {},
   "outputs": [],
   "source": [
    "#Boolean masking or boolean indexing is a feature in Python NumPy that allows for the filtering of values in numpy arrays."
   ]
  },
  {
   "cell_type": "code",
   "execution_count": 12,
   "id": "9eee5dd1",
   "metadata": {},
   "outputs": [
    {
     "data": {
      "text/plain": [
       "array([ True,  True,  True,  True,  True,  True,  True,  True,  True,\n",
       "        True,  True,  True])"
      ]
     },
     "execution_count": 12,
     "metadata": {},
     "output_type": "execute_result"
    }
   ],
   "source": [
    "x=arr>4\n",
    "x"
   ]
  },
  {
   "cell_type": "code",
   "execution_count": 14,
   "id": "d6f9c121",
   "metadata": {},
   "outputs": [
    {
     "data": {
      "text/plain": [
       "True"
      ]
     },
     "execution_count": 14,
     "metadata": {},
     "output_type": "execute_result"
    }
   ],
   "source": [
    "np.all(x)"
   ]
  },
  {
   "cell_type": "markdown",
   "id": "6c35bebf",
   "metadata": {},
   "source": [
    "# Fancy Indexing  && Slicing"
   ]
  },
  {
   "cell_type": "code",
   "execution_count": 46,
   "id": "b01b6bc7",
   "metadata": {},
   "outputs": [],
   "source": [
    "#fancy indexing is the concept of accesing elements through an array of indexes"
   ]
  },
  {
   "cell_type": "code",
   "execution_count": 47,
   "id": "ca305e85",
   "metadata": {},
   "outputs": [
    {
     "data": {
      "text/plain": [
       "array([10, 20, 30, 40, 35, 38, 46, 54, 50, 68, 60, 60])"
      ]
     },
     "execution_count": 47,
     "metadata": {},
     "output_type": "execute_result"
    }
   ],
   "source": [
    "arr"
   ]
  },
  {
   "cell_type": "code",
   "execution_count": 48,
   "id": "fff43422",
   "metadata": {},
   "outputs": [
    {
     "data": {
      "text/plain": [
       "array([10, 30, 35, 60])"
      ]
     },
     "execution_count": 48,
     "metadata": {},
     "output_type": "execute_result"
    }
   ],
   "source": [
    "idx=[0,2,4,-1]\n",
    "arr[idx]"
   ]
  },
  {
   "cell_type": "code",
   "execution_count": 49,
   "id": "a6fd62ab",
   "metadata": {},
   "outputs": [
    {
     "data": {
      "text/plain": [
       "array([1, 3, 6])"
      ]
     },
     "execution_count": 49,
     "metadata": {},
     "output_type": "execute_result"
    }
   ],
   "source": [
    "a = np.array([[1 ,2 ],[3 ,4 ],[5 ,6 ]])\n",
    "a[[0 ,1 ,2 ],[0 ,0 ,1]]"
   ]
  },
  {
   "cell_type": "code",
   "execution_count": 93,
   "id": "140c8662",
   "metadata": {},
   "outputs": [
    {
     "data": {
      "text/plain": [
       "array([[0, 1, 0, 0, 0, 1, 0, 0, 0],\n",
       "       [1, 0, 0, 0, 0, 1, 0, 1, 1],\n",
       "       [1, 0, 1, 0, 1, 1, 1, 1, 1],\n",
       "       [1, 1, 1, 0, 0, 1, 1, 1, 0],\n",
       "       [1, 0, 0, 0, 0, 0, 1, 1, 1],\n",
       "       [1, 1, 0, 1, 1, 0, 1, 0, 1],\n",
       "       [0, 1, 1, 0, 0, 0, 0, 0, 0],\n",
       "       [0, 0, 1, 1, 0, 1, 1, 1, 1],\n",
       "       [0, 1, 0, 1, 1, 1, 0, 1, 0]])"
      ]
     },
     "execution_count": 93,
     "metadata": {},
     "output_type": "execute_result"
    }
   ],
   "source": [
    "rand=np.random.RandomState(42)\n",
    "x=rand.randint(0,2,(9,9))\n",
    "x"
   ]
  },
  {
   "cell_type": "code",
   "execution_count": 94,
   "id": "2319edbe",
   "metadata": {},
   "outputs": [
    {
     "data": {
      "text/plain": [
       "False"
      ]
     },
     "execution_count": 94,
     "metadata": {},
     "output_type": "execute_result"
    }
   ],
   "source": [
    "np.all(x)"
   ]
  },
  {
   "cell_type": "code",
   "execution_count": 95,
   "id": "139b6a63",
   "metadata": {},
   "outputs": [
    {
     "data": {
      "text/plain": [
       "array([[1, 2],\n",
       "       [3, 4],\n",
       "       [5, 6]])"
      ]
     },
     "execution_count": 95,
     "metadata": {},
     "output_type": "execute_result"
    }
   ],
   "source": [
    "a"
   ]
  },
  {
   "cell_type": "code",
   "execution_count": 96,
   "id": "6f334ff2",
   "metadata": {},
   "outputs": [
    {
     "data": {
      "text/plain": [
       "array([[ 3,  6],\n",
       "       [ 9, 12],\n",
       "       [15, 18]])"
      ]
     },
     "execution_count": 96,
     "metadata": {},
     "output_type": "execute_result"
    }
   ],
   "source": [
    "a*3"
   ]
  },
  {
   "cell_type": "code",
   "execution_count": 97,
   "id": "8b47cf7b",
   "metadata": {},
   "outputs": [
    {
     "data": {
      "text/plain": [
       "array([[ 1,  4],\n",
       "       [ 9, 16],\n",
       "       [25, 36]], dtype=int32)"
      ]
     },
     "execution_count": 97,
     "metadata": {},
     "output_type": "execute_result"
    }
   ],
   "source": [
    "a**2"
   ]
  },
  {
   "cell_type": "code",
   "execution_count": 98,
   "id": "d0d74cb9",
   "metadata": {},
   "outputs": [
    {
     "data": {
      "text/plain": [
       "array([[ 2,  6],\n",
       "       [12, 20],\n",
       "       [30, 42]])"
      ]
     },
     "execution_count": 98,
     "metadata": {},
     "output_type": "execute_result"
    }
   ],
   "source": [
    "a+a**2"
   ]
  },
  {
   "cell_type": "code",
   "execution_count": 105,
   "id": "5b7830ee",
   "metadata": {},
   "outputs": [
    {
     "data": {
      "text/plain": [
       "array([[1, 1],\n",
       "       [1, 1]])"
      ]
     },
     "execution_count": 105,
     "metadata": {},
     "output_type": "execute_result"
    }
   ],
   "source": [
    "r=np.ones((2,2),dtype='i4')\n",
    "r"
   ]
  },
  {
   "cell_type": "code",
   "execution_count": 114,
   "id": "7dc3e04b",
   "metadata": {},
   "outputs": [
    {
     "data": {
      "text/plain": [
       "array([[(1, 1.), (1, 1.)],\n",
       "       [(1, 1.), (1, 1.)]], dtype=[('Att1', '<i4'), ('Att2', '<f8')])"
      ]
     },
     "execution_count": 114,
     "metadata": {},
     "output_type": "execute_result"
    }
   ],
   "source": [
    "p=np.ones((2,2),dtype={'names':('Att1','Att2'),'formats':('int','f8')})\n",
    "p"
   ]
  },
  {
   "cell_type": "code",
   "execution_count": 117,
   "id": "cf391ffe",
   "metadata": {},
   "outputs": [
    {
     "data": {
      "text/plain": [
       "array([[(0, '', 0), (0, '', 0), (0, '', 0)],\n",
       "       [(0, '', 0), (0, '', 0), (0, '', 0)]],\n",
       "      dtype=[('id', '<i4'), ('name', '<U20'), ('age', '<i4')])"
      ]
     },
     "execution_count": 117,
     "metadata": {},
     "output_type": "execute_result"
    }
   ],
   "source": [
    "q=np.zeros((2,3),dtype={'names':('id','name','age'),'formats':('i4','U20','i4')})  #structured numpy array\n",
    "q"
   ]
  },
  {
   "cell_type": "code",
   "execution_count": 136,
   "id": "6721df41",
   "metadata": {},
   "outputs": [
    {
     "data": {
      "text/plain": [
       "array([[[0, 1],\n",
       "        [2, 3]],\n",
       "\n",
       "       [[4, 5],\n",
       "        [6, 7]]])"
      ]
     },
     "execution_count": 136,
     "metadata": {},
     "output_type": "execute_result"
    }
   ],
   "source": [
    "c=np.arange(8).reshape(2,2,2)\n",
    "c"
   ]
  },
  {
   "cell_type": "code",
   "execution_count": 20,
   "id": "4bc1e02d",
   "metadata": {},
   "outputs": [
    {
     "data": {
      "text/plain": [
       "array([(1, 'Rolex'), (2, 'Dilli')],\n",
       "      dtype=[('ID', '<i4'), ('NAME', '<U20')])"
      ]
     },
     "execution_count": 20,
     "metadata": {},
     "output_type": "execute_result"
    }
   ],
   "source": [
    "#structured numpy array\n",
    "import numpy as np\n",
    "arr=np.array([(1,'Rolex'),(2,'Dilli')],dtype=[('ID','i4'),('NAME','U20')])\n",
    "arr"
   ]
  },
  {
   "cell_type": "code",
   "execution_count": 37,
   "id": "985a1653",
   "metadata": {},
   "outputs": [
    {
     "name": "stdout",
     "output_type": "stream",
     "text": [
      "[1 4 3]\n",
      "[3 4]\n"
     ]
    }
   ],
   "source": [
    "l=[1,4,3]\n",
    "l2=[3,4]\n",
    "a=np.array(l)\n",
    "b=np.array(l2)\n",
    "print(a)\n",
    "print(b)"
   ]
  },
  {
   "cell_type": "code",
   "execution_count": 34,
   "id": "43f7718b",
   "metadata": {},
   "outputs": [
    {
     "data": {
      "text/plain": [
       "array([ True,  True])"
      ]
     },
     "execution_count": 34,
     "metadata": {},
     "output_type": "execute_result"
    }
   ],
   "source": [
    "b>0"
   ]
  },
  {
   "cell_type": "code",
   "execution_count": 45,
   "id": "606942d6",
   "metadata": {},
   "outputs": [
    {
     "data": {
      "text/plain": [
       "array([False,  True,  True])"
      ]
     },
     "execution_count": 45,
     "metadata": {},
     "output_type": "execute_result"
    }
   ],
   "source": [
    "a>2"
   ]
  },
  {
   "cell_type": "code",
   "execution_count": 46,
   "id": "65187ab7",
   "metadata": {},
   "outputs": [
    {
     "data": {
      "text/plain": [
       "array([4, 3])"
      ]
     },
     "execution_count": 46,
     "metadata": {},
     "output_type": "execute_result"
    }
   ],
   "source": [
    "a[a>2]"
   ]
  },
  {
   "cell_type": "code",
   "execution_count": 58,
   "id": "f80ff375",
   "metadata": {},
   "outputs": [
    {
     "data": {
      "text/plain": [
       "array([[1.76405235, 0.40015721],\n",
       "       [0.97873798, 2.2408932 ]])"
      ]
     },
     "execution_count": 58,
     "metadata": {},
     "output_type": "execute_result"
    }
   ],
   "source": [
    "#creating a random numpy array\n",
    "rand=np.random.RandomState(0)\n",
    "a=rand.randn(2,2)  #creates an random valued numpy array with given shape \n",
    "a"
   ]
  },
  {
   "cell_type": "code",
   "execution_count": 67,
   "id": "1d39c619",
   "metadata": {},
   "outputs": [
    {
     "data": {
      "text/plain": [
       "array([0.97749514, 0.87650525, 0.33815895, 0.96157015])"
      ]
     },
     "execution_count": 67,
     "metadata": {},
     "output_type": "execute_result"
    }
   ],
   "source": [
    "a=rand.rand(4) #creates a numpy array with specified shape but the conatining values are from 0 to 1\n",
    "a"
   ]
  },
  {
   "cell_type": "code",
   "execution_count": 84,
   "id": "ad9573dc",
   "metadata": {},
   "outputs": [
    {
     "data": {
      "text/plain": [
       "array([[ 0, -3],\n",
       "       [-3,  8],\n",
       "       [-5,  1],\n",
       "       [-5,  9],\n",
       "       [ 9,  5]])"
      ]
     },
     "execution_count": 84,
     "metadata": {},
     "output_type": "execute_result"
    }
   ],
   "source": [
    "x=np.random.randint(-5,10,(5,2))\n",
    "x"
   ]
  },
  {
   "cell_type": "code",
   "execution_count": 80,
   "id": "c613bd3e",
   "metadata": {},
   "outputs": [
    {
     "data": {
      "text/plain": [
       "array([[ 1,  2],\n",
       "       [ 3,  4],\n",
       "       [ 5,  6],\n",
       "       [ 7,  8],\n",
       "       [ 9, 10]])"
      ]
     },
     "execution_count": 80,
     "metadata": {},
     "output_type": "execute_result"
    }
   ],
   "source": [
    "y=np.arange(1,11).reshape(5,2)\n",
    "y"
   ]
  },
  {
   "cell_type": "code",
   "execution_count": null,
   "id": "77c6ddfb",
   "metadata": {},
   "outputs": [],
   "source": []
  }
 ],
 "metadata": {
  "kernelspec": {
   "display_name": "Python 3 (ipykernel)",
   "language": "python",
   "name": "python3"
  },
  "language_info": {
   "codemirror_mode": {
    "name": "ipython",
    "version": 3
   },
   "file_extension": ".py",
   "mimetype": "text/x-python",
   "name": "python",
   "nbconvert_exporter": "python",
   "pygments_lexer": "ipython3",
   "version": "3.9.12"
  }
 },
 "nbformat": 4,
 "nbformat_minor": 5
}
